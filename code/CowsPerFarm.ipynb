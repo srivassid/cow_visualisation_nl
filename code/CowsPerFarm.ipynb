{
 "cells": [
  {
   "cell_type": "code",
   "execution_count": 5,
   "metadata": {},
   "outputs": [],
   "source": [
    "import folium\n",
    "import pandas as pd\n",
    "\n",
    "df = pd.read_csv(\"cowsPerFarm.csv\")\n",
    "\n",
    "m = folium.Map(location=[52, 5], zoom_start=7)\n",
    "\n",
    "folium.Choropleth(\n",
    "    geo_data=\"the-netherlands.geojson\",\n",
    "    name='choropleth',\n",
    "    data=df,\n",
    "    columns=['Regions', 'CowsPerFarm'],\n",
    "    key_on='feature.properties.name',\n",
    "    fill_color='PuBu',\n",
    "    fill_opacity=0.9,\n",
    "    line_opacity=0.2,\n",
    "    smooth_factor=0.9,\n",
    "    legend_name='No of  Dairy Cows (>=2 years) per farm'\n",
    ").add_to(m)\n",
    "\n",
    "folium.LayerControl().add_to(m)\n",
    "m\n",
    "m.save(outfile= \"cowsPerFarm.png\")"
   ]
  },
  {
   "cell_type": "code",
   "execution_count": null,
   "metadata": {},
   "outputs": [],
   "source": []
  }
 ],
 "metadata": {
  "kernelspec": {
   "display_name": "Python 3",
   "language": "python",
   "name": "python3"
  },
  "language_info": {
   "codemirror_mode": {
    "name": "ipython",
    "version": 3
   },
   "file_extension": ".py",
   "mimetype": "text/x-python",
   "name": "python",
   "nbconvert_exporter": "python",
   "pygments_lexer": "ipython3",
   "version": "3.6.4"
  }
 },
 "nbformat": 4,
 "nbformat_minor": 2
}
